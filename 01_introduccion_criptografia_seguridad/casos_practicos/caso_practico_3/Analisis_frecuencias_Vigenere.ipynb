{
 "cells": [
  {
   "cell_type": "markdown",
   "id": "bc5e3827",
   "metadata": {},
   "source": [
    "# Ataques estadisticos: Analisis de frecuencias"
   ]
  },
  {
   "cell_type": "markdown",
   "id": "3f906329",
   "metadata": {},
   "source": [
    "## Funciones auxiliares"
   ]
  },
  {
   "cell_type": "code",
   "execution_count": null,
   "id": "1654d499",
   "metadata": {},
   "outputs": [],
   "source": [
    "def ngramas(texto, n):\n",
    "    \"\"\"Divide el texto en ngramas.\"\"\"\n",
    "    texto = texto.replace(\" \", \"\")\n",
    "    return [texto[i:i+n] for i in range(len(texto)-n+1)]"
   ]
  },
  {
   "cell_type": "code",
   "execution_count": null,
   "id": "b4e4ecea",
   "metadata": {},
   "outputs": [],
   "source": [
    "from collections import Counter\n",
    "import pandas as pd\n",
    "\n",
    "def frec_ngramas(texto, n):\n",
    "    \"\"\"Calcula las frecuencias de los ngramas de un texto.\"\"\"\n",
    "    ng = ngramas(texto, n)\n",
    "    frecuencias = Counter(ng)\n",
    "    return pd.DataFrame(frecuencias.most_common(), columns=['letra', 'frecuencia'])"
   ]
  },
  {
   "cell_type": "code",
   "execution_count": null,
   "id": "bf550387",
   "metadata": {},
   "outputs": [],
   "source": [
    "def leer_frecuencias(archivo):\n",
    "    \"\"\"Lee un fichero con las frecuencias de los ngramas para el idioma Espanol.\"\"\"\n",
    "    return pd.read_csv(archivo, sep=\" \", names=[\"letra\", \"frecuencia\"])"
   ]
  },
  {
   "cell_type": "code",
   "execution_count": null,
   "id": "f89e98bc",
   "metadata": {},
   "outputs": [],
   "source": [
    "def leer_texto_cifrado(texto_cifrado, n):\n",
    "    \"\"\"Lee el texto cifrado y calcula las frecuencias de los ngramas.\"\"\"\n",
    "    with open(texto_cifrado) as f:\n",
    "        texto_cifrado = f.readlines()[0]\n",
    "    return frec_ngramas(texto_cifrado, n)"
   ]
  },
  {
   "cell_type": "markdown",
   "id": "e925d1f8",
   "metadata": {},
   "source": [
    "## Cifrado Vigenere"
   ]
  },
  {
   "cell_type": "markdown",
   "id": "3b7e3312",
   "metadata": {},
   "source": [
    "No conocemos la palabra clave pero sabemos que **tiene 4 letras**"
   ]
  },
  {
   "cell_type": "markdown",
   "id": "98c97f53",
   "metadata": {},
   "source": [
    "## Analisis Monogramas"
   ]
  },
  {
   "cell_type": "code",
   "execution_count": null,
   "id": "8b345b62",
   "metadata": {},
   "outputs": [],
   "source": [
    "with open('texto_cifrado.txt') as f:\n",
    "    texto_cifrado = f.readlines()[0]"
   ]
  },
  {
   "cell_type": "code",
   "execution_count": null,
   "id": "020f3476",
   "metadata": {},
   "outputs": [],
   "source": [
    "texto_cifrado"
   ]
  },
  {
   "cell_type": "code",
   "execution_count": null,
   "id": "3ff9421f",
   "metadata": {},
   "outputs": [],
   "source": [
    "lkeyword = 4"
   ]
  },
  {
   "cell_type": "code",
   "execution_count": null,
   "id": "f1cfca55",
   "metadata": {},
   "outputs": [],
   "source": [
    "texto_cifrado_1 = \"\"\n",
    "\n",
    "for i in range(0, len(texto_cifrado), lkeyword):\n",
    "    texto_cifrado_1 += texto_cifrado[i]"
   ]
  },
  {
   "cell_type": "code",
   "execution_count": null,
   "id": "9871c5c6",
   "metadata": {},
   "outputs": [],
   "source": [
    "texto_cifrado_1"
   ]
  },
  {
   "cell_type": "code",
   "execution_count": null,
   "id": "6b0cd5f3",
   "metadata": {},
   "outputs": [],
   "source": [
    "monogramas_cifrado_1 = frec_ngramas(texto_cifrado_1, 1)\n",
    "monogramas_cifrado_1.head(10)"
   ]
  },
  {
   "cell_type": "code",
   "execution_count": null,
   "id": "3393fb52",
   "metadata": {},
   "outputs": [],
   "source": [
    "monogramas_es = leer_frecuencias(\"spanish_monograms.txt\")\n",
    "monogramas_es.head(10)"
   ]
  },
  {
   "cell_type": "markdown",
   "id": "dca5bc1f",
   "metadata": {},
   "source": [
    "## Texto Plano"
   ]
  },
  {
   "cell_type": "code",
   "execution_count": null,
   "id": "fc0ce7bc",
   "metadata": {},
   "outputs": [],
   "source": [
    "with open('texto_plano.txt', encoding='latin-1') as f:\n",
    "    texto_plano = f.readlines()[0]"
   ]
  },
  {
   "cell_type": "code",
   "execution_count": null,
   "id": "16efd37b",
   "metadata": {},
   "outputs": [],
   "source": [
    "texto_plano = texto_plano.replace(\" \", \"\").replace(\",\", \"\").replace(\".\", \"\")"
   ]
  },
  {
   "cell_type": "code",
   "execution_count": null,
   "id": "04398105",
   "metadata": {},
   "outputs": [],
   "source": [
    "texto_plano_1 = \"\"\n",
    "\n",
    "for i in range(0, len(texto_plano), 4):\n",
    "    texto_plano_1 += texto_plano[i]"
   ]
  },
  {
   "cell_type": "code",
   "execution_count": null,
   "id": "ed828dd4",
   "metadata": {},
   "outputs": [],
   "source": [
    "texto_plano_1"
   ]
  }
 ],
 "metadata": {
  "kernelspec": {
   "display_name": "Python 3 (ipykernel)",
   "language": "python",
   "name": "python3"
  },
  "language_info": {
   "codemirror_mode": {
    "name": "ipython",
    "version": 3
   },
   "file_extension": ".py",
   "mimetype": "text/x-python",
   "name": "python",
   "nbconvert_exporter": "python",
   "pygments_lexer": "ipython3",
   "version": "3.8.5"
  }
 },
 "nbformat": 4,
 "nbformat_minor": 5
}
